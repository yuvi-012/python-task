{
 "cells": [
  {
   "cell_type": "code",
   "execution_count": 2,
   "metadata": {},
   "outputs": [
    {
     "name": "stdout",
     "output_type": "stream",
     "text": [
      "Even numbers: [10, 22, 100]\n",
      "Odd numbers: [501, 37, 999, 87, 351]\n"
     ]
    }
   ],
   "source": [
    "list = [10, 501, 22, 37, 100, 999, 87, 351]\n",
    "\n",
    "even_numbers = [num for num in list if num % 2 == 0]\n",
    "odd_numbers = [num for num in list if num % 2 != 0]\n",
    "\n",
    "print(\"Even numbers:\", even_numbers)\n",
    "print(\"Odd numbers:\", odd_numbers)"
   ]
  },
  {
   "cell_type": "code",
   "execution_count": 3,
   "metadata": {},
   "outputs": [
    {
     "name": "stdout",
     "output_type": "stream",
     "text": [
      "Prime numbers: [37]\n"
     ]
    }
   ],
   "source": [
    "list = [10, 501, 22, 37, 100, 999, 87, 351]\n",
    "prime_numbers = []\n",
    "def is_prime(num):\n",
    "    if num <= 1:\n",
    "        return False\n",
    "    for i in range(2, int(num ** 0.5) + 1):\n",
    "        if num % i == 0:\n",
    "            return False\n",
    "    return True\n",
    "\n",
    "for num in list:\n",
    "    if is_prime(num):\n",
    "        prime_numbers.append(num)\n",
    "\n",
    "print(\"Prime numbers:\", prime_numbers)"
   ]
  },
  {
   "cell_type": "code",
   "execution_count": 1,
   "metadata": {},
   "outputs": [
    {
     "name": "stdout",
     "output_type": "stream",
     "text": [
      "Number of happy numbers in the list: 2\n"
     ]
    }
   ],
   "source": [
    "numbers = [10, 501, 22, 37, 100, 999, 87, 351]\n",
    "happy_numbers= sum(1 for num in numbers if num in {1, 7, 10, 13, 19, 23, 28, 31, 32, 44, 49, 68, 70, 79, 82, 86, 91, 94, 97, 100})\n",
    "\n",
    "print(\"Number of happy numbers in the list:\", happy_numbers)"
   ]
  },
  {
   "cell_type": "code",
   "execution_count": 1,
   "metadata": {},
   "outputs": [
    {
     "name": "stdout",
     "output_type": "stream",
     "text": [
      "Sum of the first and last digit: 3\n"
     ]
    }
   ],
   "source": [
    "number = \"12\"\n",
    "sum_of_digits = int(number[0]) + int(number[-1])\n",
    "print(\"Sum of the first and last digit:\", sum_of_digits)"
   ]
  },
  {
   "cell_type": "code",
   "execution_count": 3,
   "metadata": {},
   "outputs": [
    {
     "name": "stdout",
     "output_type": "stream",
     "text": [
      "Minimum difference between bags: 2\n"
     ]
    }
   ],
   "source": [
    "def distribute_mangoes(bags, students):\n",
    "    bags.sort()\n",
    "    return min(bags[i + students - 1] - bags[i] for i in range(len(bags) - students + 1))\n",
    "\n",
    "print(\"Minimum difference between bags:\", distribute_mangoes(bags, students))"
   ]
  },
  {
   "cell_type": "code",
   "execution_count": 4,
   "metadata": {},
   "outputs": [
    {
     "name": "stdout",
     "output_type": "stream",
     "text": [
      "Duplicates found: {5}\n"
     ]
    }
   ],
   "source": [
    "list1 = [1, 2, 3, 4, 5]\n",
    "list2 = [4, 5, 6, 7, 8]\n",
    "list3 = [5, 6, 7, 8, 9]\n",
    "\n",
    "duplicates = set(list1) & set(list2) & set(list3)\n",
    "\n",
    "if duplicates:\n",
    "    print(\"Duplicates found:\", duplicates)\n",
    "else:\n",
    "    print(\"No duplicates found\")"
   ]
  },
  {
   "cell_type": "code",
   "execution_count": 6,
   "metadata": {},
   "outputs": [
    {
     "name": "stdout",
     "output_type": "stream",
     "text": [
      "First non-repeating element: 3\n"
     ]
    }
   ],
   "source": [
    "numbers = [1, 2, 3, 2, 4, 1, 5, 6, 7, 7, 6]\n",
    "counts = {}\n",
    "for num in numbers:\n",
    "    counts[num] = counts.get(num, 0) + 1\n",
    "first_non_repeating = next((num for num, count in counts.items() if count == 1), None)\n",
    "print(\"First non-repeating element:\", first_non_repeating)"
   ]
  },
  {
   "cell_type": "code",
   "execution_count": 13,
   "metadata": {},
   "outputs": [
    {
     "name": "stdout",
     "output_type": "stream",
     "text": [
      "Minimum element: 3\n"
     ]
    }
   ],
   "source": [
    "def find_minimum_element(sorted_list):\n",
    "    if sorted_list:\n",
    "        return sorted_list[0]\n",
    "    else:\n",
    "        return None\n",
    "\n",
    "sorted_list = [3,4,5,6,8,9]\n",
    "minimum_element = find_minimum_element(sorted_list)\n",
    "print(\"Minimum element:\", minimum_element)"
   ]
  },
  {
   "cell_type": "code",
   "execution_count": 14,
   "metadata": {},
   "outputs": [
    {
     "name": "stdout",
     "output_type": "stream",
     "text": [
      "Triplet with sum 59 : [20, 30, 9]\n"
     ]
    }
   ],
   "source": [
    "list=[10, 20, 30, 9]\n",
    "value=59\n",
    "\n",
    "for i in range(len(list) - 2):\n",
    "    for j in range(i + 1, len(list) - 1):\n",
    "        for k in range(j + 1, len(list)):\n",
    "            if list[i] + list[j] + list[k] == value:\n",
    "                print(\"Triplet with sum\",value, \":\", [list[i],list[j],list[k]])\n",
    "                break"
   ]
  },
  {
   "cell_type": "code",
   "execution_count": 20,
   "metadata": {},
   "outputs": [
    {
     "name": "stdout",
     "output_type": "stream",
     "text": [
      "There is no sublist with a sum equal to zero.\n"
     ]
    }
   ],
   "source": [
    "list = [4, 2, -3, 1, 6]\n",
    "for i in range(len(list)):\n",
    "    if sum(list[i:]) == 0:\n",
    "        print(\"There exists a sublist with a sum equal to zero.\")\n",
    "        break\n",
    "else:\n",
    "    print(\"There is no sublist with a sum equal to zero.\")\n"
   ]
  },
  {
   "cell_type": "code",
   "execution_count": null,
   "metadata": {},
   "outputs": [],
   "source": []
  },
  {
   "cell_type": "code",
   "execution_count": null,
   "metadata": {},
   "outputs": [],
   "source": []
  }
 ],
 "metadata": {
  "kernelspec": {
   "display_name": "Python 3",
   "language": "python",
   "name": "python3"
  },
  "language_info": {
   "codemirror_mode": {
    "name": "ipython",
    "version": 3
   },
   "file_extension": ".py",
   "mimetype": "text/x-python",
   "name": "python",
   "nbconvert_exporter": "python",
   "pygments_lexer": "ipython3",
   "version": "3.12.2"
  }
 },
 "nbformat": 4,
 "nbformat_minor": 2
}
